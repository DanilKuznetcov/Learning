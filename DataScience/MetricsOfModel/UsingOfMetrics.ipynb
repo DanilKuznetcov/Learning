{
 "cells": [
  {
   "cell_type": "code",
   "execution_count": 3,
   "id": "9676a1c8",
   "metadata": {},
   "outputs": [],
   "source": [
    "from sklearn import datasets\n",
    "from sklearn import metrics\n",
    "from sklearn.linear_model import LogisticRegression\n",
    "import warnings\n",
    "warnings.filterwarnings('ignore')"
   ]
  },
  {
   "cell_type": "markdown",
   "id": "8f7b80be",
   "metadata": {},
   "source": [
    "# Модель логистической регрессии"
   ]
  },
  {
   "cell_type": "markdown",
   "id": "d3a4c6c6",
   "metadata": {},
   "source": [
    "### Обучаем модель и смотрим точность"
   ]
  },
  {
   "cell_type": "code",
   "execution_count": 11,
   "id": "83bdaaf8",
   "metadata": {},
   "outputs": [
    {
     "name": "stdout",
     "output_type": "stream",
     "text": [
      "Accuracy: 0.95\n"
     ]
    }
   ],
   "source": [
    "cancer = datasets.load_breast_cancer()\n",
    "logistic_regression = LogisticRegression()\n",
    "model = logistic_regression.fit(cancer.data, cancer.target)\n",
    "print('Accuracy: {:.2f}'.format(model.score(cancer.data, cancer.target)))"
   ]
  },
  {
   "cell_type": "markdown",
   "id": "99b04450",
   "metadata": {},
   "source": [
    "### Смотрим разные качественные характеристики"
   ]
  },
  {
   "cell_type": "code",
   "execution_count": 6,
   "id": "761752b4",
   "metadata": {},
   "outputs": [
    {
     "name": "stdout",
     "output_type": "stream",
     "text": [
      "Accuracy: 0.95\n",
      "ROC AUC: 0.94\n",
      "F1: 0.96\n"
     ]
    }
   ],
   "source": [
    "predictions = model.predict(cancer.data)\n",
    "print('Accuracy: {:.2f}'.format(metrics.accuracy_score(cancer.target, predictions)))\n",
    "print('ROC AUC: {:.2f}'.format(metrics.roc_auc_score(cancer.target, predictions)))\n",
    "print('F1: {:.2f}'.format(metrics.f1_score(cancer.target, predictions)))"
   ]
  },
  {
   "cell_type": "markdown",
   "id": "8ccd6b86",
   "metadata": {},
   "source": [
    "### Делим выборку и проверяем насколько переобучилась"
   ]
  },
  {
   "cell_type": "code",
   "execution_count": 7,
   "id": "bb34f563",
   "metadata": {},
   "outputs": [],
   "source": [
    "from sklearn.model_selection import train_test_split"
   ]
  },
  {
   "cell_type": "code",
   "execution_count": 10,
   "id": "14f14bae",
   "metadata": {},
   "outputs": [
    {
     "name": "stdout",
     "output_type": "stream",
     "text": [
      "Train accuracy: 0.95\n",
      "Test accuracy: 0.93\n"
     ]
    }
   ],
   "source": [
    "x_train, x_test, y_train, y_test = train_test_split(\n",
    "cancer.data, cancer.target,\n",
    "test_size=0.2, random_state=12\n",
    ")\n",
    "model = logistic_regression.fit(x_train, y_train)\n",
    "print('Train accuracy: {:.2f}'.format(model.score(x_train, y_train)))\n",
    "print('Test accuracy: {:.2f}'.format(model.score(x_test, y_test)))"
   ]
  },
  {
   "cell_type": "markdown",
   "id": "b819f67b",
   "metadata": {},
   "source": [
    "# Применение различных регуляризаций в регрессии"
   ]
  },
  {
   "cell_type": "code",
   "execution_count": 24,
   "id": "1ca835d0",
   "metadata": {},
   "outputs": [
    {
     "name": "stdout",
     "output_type": "stream",
     "text": [
      "<class 'sklearn.linear_model._coordinate_descent.Lasso'>\n",
      "MSE: 0.12\n",
      "\n",
      "<class 'sklearn.linear_model._ridge.Ridge'>\n",
      "MSE: 0.07\n",
      "\n",
      "<class 'sklearn.linear_model._coordinate_descent.ElasticNet'>\n",
      "MSE: 0.09\n",
      "\n"
     ]
    }
   ],
   "source": [
    "from sklearn.linear_model import Lasso, Ridge, ElasticNet\n",
    "boston = datasets.load_boston()\n",
    "lasso = Lasso() # L1\n",
    "ridge = Ridge() # L2\n",
    "elastic = ElasticNet() # L1 + L2\n",
    "for model in [lasso, ridge, elastic]:\n",
    "    x_train, x_test, y_train, y_test = train_test_split(\\\n",
    "    cancer.data, cancer.target,\n",
    "    test_size=0.2\n",
    ")\n",
    "    model.fit(x_train, y_train)\n",
    "    predictions = model.predict(x_test)\n",
    "    print(model.__class__)\n",
    "    print('MSE: {:.2f}\\n'.format(metrics.mean_squared_error(y_test, predictions)))"
   ]
  },
  {
   "cell_type": "markdown",
   "id": "c9d4f8c2",
   "metadata": {},
   "source": [
    "# Применение различных регуляризаций в регрессии"
   ]
  },
  {
   "cell_type": "code",
   "execution_count": 18,
   "id": "1c26a243",
   "metadata": {},
   "outputs": [
    {
     "data": {
      "text/plain": [
       "['sepal length (cm)',\n",
       " 'sepal width (cm)',\n",
       " 'petal length (cm)',\n",
       " 'petal width (cm)']"
      ]
     },
     "execution_count": 18,
     "metadata": {},
     "output_type": "execute_result"
    }
   ],
   "source": [
    "from sklearn.model_selection import KFold, cross_val_score\n",
    "iris = datasets.load_iris()\n",
    "iris.keys()\n",
    "iris['feature_names']"
   ]
  },
  {
   "cell_type": "markdown",
   "id": "7b656a6a",
   "metadata": {},
   "source": [
    "### Делим выборку на 5 частей"
   ]
  },
  {
   "cell_type": "code",
   "execution_count": 21,
   "id": "0d2480d9",
   "metadata": {},
   "outputs": [],
   "source": [
    "logistic_regression = LogisticRegression()\n",
    "cv = KFold(n_splits=5) # +StratifiedKFold"
   ]
  },
  {
   "cell_type": "markdown",
   "id": "7abc7e0e",
   "metadata": {},
   "source": [
    "### Последовательно обучаем и оцениваем модель на каждом из 5 модмножеств данных"
   ]
  },
  {
   "cell_type": "code",
   "execution_count": 22,
   "id": "5052491a",
   "metadata": {},
   "outputs": [
    {
     "name": "stdout",
     "output_type": "stream",
     "text": [
      "Split 0 Score: 1.00\n",
      "Split 1 Score: 1.00\n",
      "Split 2 Score: 0.87\n",
      "Split 3 Score: 0.93\n",
      "Split 4 Score: 0.83\n"
     ]
    }
   ],
   "source": [
    "for split_idx, (train_idx, test_idx) in enumerate(cv.split(iris.data)):\n",
    "    x_train, x_test = iris.data[train_idx], iris.data[test_idx]\n",
    "    y_train, y_test = iris.target[train_idx], iris.target[test_idx]\n",
    "    logistic_regression.fit(x_train, y_train)\n",
    "    score = logistic_regression.score(x_test, y_test)\n",
    "    print('Split {} Score: {:.2f}'.format(split_idx, score))"
   ]
  },
  {
   "cell_type": "markdown",
   "id": "e6d819ed",
   "metadata": {},
   "source": [
    "### Встроенная функция обучения на разбитых данных (тоже что сверху, но не руками)"
   ]
  },
  {
   "cell_type": "code",
   "execution_count": 23,
   "id": "cc37daf3",
   "metadata": {},
   "outputs": [
    {
     "name": "stdout",
     "output_type": "stream",
     "text": [
      "Cross val score: [1.         1.         0.86666667 0.93333333 0.83333333]\n",
      "Mean cross val score: 0.93\n"
     ]
    }
   ],
   "source": [
    "cv_score = cross_val_score(\n",
    "    logistic_regression, iris.data, iris.target,\n",
    "    scoring='accuracy'### Делим выборку на 5 частей, cv=cv\n",
    ")\n",
    "print('Cross val score: {}'.format(cv_score))\n",
    "print('Mean cross val score: {:.2f}'.format(cv_score.mean()))"
   ]
  }
 ],
 "metadata": {
  "kernelspec": {
   "display_name": "Python 3 (ipykernel)",
   "language": "python",
   "name": "python3"
  },
  "language_info": {
   "codemirror_mode": {
    "name": "ipython",
    "version": 3
   },
   "file_extension": ".py",
   "mimetype": "text/x-python",
   "name": "python",
   "nbconvert_exporter": "python",
   "pygments_lexer": "ipython3",
   "version": "3.8.10"
  }
 },
 "nbformat": 4,
 "nbformat_minor": 5
}
