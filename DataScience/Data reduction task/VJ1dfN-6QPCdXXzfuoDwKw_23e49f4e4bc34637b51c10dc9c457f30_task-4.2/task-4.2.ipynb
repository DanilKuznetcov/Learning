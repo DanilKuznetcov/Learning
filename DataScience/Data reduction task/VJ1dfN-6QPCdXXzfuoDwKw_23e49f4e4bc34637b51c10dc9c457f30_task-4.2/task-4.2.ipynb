{
 "cells": [
  {
   "cell_type": "markdown",
   "metadata": {},
   "source": [
    "# Методы обучения без учителя\n",
    "## Метод главных компонент"
   ]
  },
  {
   "cell_type": "markdown",
   "metadata": {},
   "source": [
    "<font color = 'red'> Внимание! </font> Решение данной задачи предполагает, что у вас установлены библиотека numpy версии 1.16.4 и выше и библиотека  scikit-learn версии 0.21.2 и выше. В следующей ячейке мы проверим это. Если у вас установлены более старые версии, обновите их пожалуйста, или воспользуйтесь бесплатным сервисом https://colab.research.google.com , в котором уже всё готово к работе.  В архиве есть руководство по началу работы с colab."
   ]
  },
  {
   "cell_type": "code",
   "execution_count": 1,
   "metadata": {},
   "outputs": [
    {
     "name": "stdout",
     "output_type": "stream",
     "text": [
      "1.23.5\n",
      "1.2.0\n"
     ]
    }
   ],
   "source": [
    "import numpy as np\n",
    "print(np.__version__)\n",
    "import sklearn\n",
    "print(sklearn.__version__)"
   ]
  },
  {
   "cell_type": "markdown",
   "metadata": {},
   "source": [
    "В этом задании мы применим метод главных компонент на многомерных данных и постараемся найти оптимальную размерность признаков для решения задачи классификации"
   ]
  },
  {
   "cell_type": "code",
   "execution_count": 2,
   "metadata": {},
   "outputs": [],
   "source": [
    "import pandas as pd\n",
    "import matplotlib.pyplot as plt\n",
    "import numpy as np\n",
    "\n",
    "%matplotlib inline"
   ]
  },
  {
   "cell_type": "markdown",
   "metadata": {},
   "source": [
    "## Подготовка данных"
   ]
  },
  {
   "cell_type": "markdown",
   "metadata": {},
   "source": [
    "Исходными [данными](http://archive.ics.uci.edu/ml/machine-learning-databases/auslan2-mld/auslan.data.html) являются показания различных сенсоров, установленных на руках человека, который умеет общаться на языке жестов.\n",
    "\n",
    "В данном случае задача ставится следующим образом: по показаниям датчиков (по 11 сенсоров на каждую руку) определить слово, которое было показано человеком.\n",
    "\n",
    "Как можно решать такую задачу?\n",
    "\n",
    "Показания датчиков представляются в виде временных рядов. Посмотрим на показания для одного из \"слов\""
   ]
  },
  {
   "cell_type": "code",
   "execution_count": 3,
   "metadata": {},
   "outputs": [],
   "source": [
    "# Загружаем данные сенсоров\n",
    "df_database = pd.read_csv('sign_database.csv')\n",
    "\n",
    "# Загружаем метки классов\n",
    "sign_classes = pd.read_csv('sign_classes.csv', index_col=0, header=0, names=['id', 'class'])"
   ]
  },
  {
   "cell_type": "code",
   "execution_count": 4,
   "metadata": {},
   "outputs": [
    {
     "data": {
      "text/html": [
       "<div>\n",
       "<style scoped>\n",
       "    .dataframe tbody tr th:only-of-type {\n",
       "        vertical-align: middle;\n",
       "    }\n",
       "\n",
       "    .dataframe tbody tr th {\n",
       "        vertical-align: top;\n",
       "    }\n",
       "\n",
       "    .dataframe thead th {\n",
       "        text-align: right;\n",
       "    }\n",
       "</style>\n",
       "<table border=\"1\" class=\"dataframe\">\n",
       "  <thead>\n",
       "    <tr style=\"text-align: right;\">\n",
       "      <th></th>\n",
       "      <th>x_l</th>\n",
       "      <th>x_r</th>\n",
       "      <th>y_l</th>\n",
       "      <th>y_r</th>\n",
       "      <th>z_l</th>\n",
       "      <th>z_r</th>\n",
       "      <th>roll_l</th>\n",
       "      <th>roll_r</th>\n",
       "      <th>pitch_l</th>\n",
       "      <th>pitch_r</th>\n",
       "      <th>...</th>\n",
       "      <th>forefinger_l</th>\n",
       "      <th>forefinger_r</th>\n",
       "      <th>middle_l</th>\n",
       "      <th>middle_r</th>\n",
       "      <th>ring_l</th>\n",
       "      <th>ring_r</th>\n",
       "      <th>little_l</th>\n",
       "      <th>little_r</th>\n",
       "      <th>id</th>\n",
       "      <th>time</th>\n",
       "    </tr>\n",
       "  </thead>\n",
       "  <tbody>\n",
       "    <tr>\n",
       "      <th>0</th>\n",
       "      <td>-0.097816</td>\n",
       "      <td>-0.127761</td>\n",
       "      <td>-0.029051</td>\n",
       "      <td>0.537977</td>\n",
       "      <td>0.249162</td>\n",
       "      <td>0.508908</td>\n",
       "      <td>0.239445</td>\n",
       "      <td>0.039819</td>\n",
       "      <td>0.0</td>\n",
       "      <td>0.007009</td>\n",
       "      <td>...</td>\n",
       "      <td>0.369149</td>\n",
       "      <td>0.381857</td>\n",
       "      <td>0.570995</td>\n",
       "      <td>0.343431</td>\n",
       "      <td>0.0</td>\n",
       "      <td>0.000000</td>\n",
       "      <td>0.0</td>\n",
       "      <td>0.133088</td>\n",
       "      <td>0</td>\n",
       "      <td>0</td>\n",
       "    </tr>\n",
       "    <tr>\n",
       "      <th>1</th>\n",
       "      <td>-0.102460</td>\n",
       "      <td>-0.126734</td>\n",
       "      <td>-0.029230</td>\n",
       "      <td>0.537758</td>\n",
       "      <td>0.246477</td>\n",
       "      <td>0.507236</td>\n",
       "      <td>0.240116</td>\n",
       "      <td>0.039057</td>\n",
       "      <td>0.0</td>\n",
       "      <td>0.007009</td>\n",
       "      <td>...</td>\n",
       "      <td>0.326618</td>\n",
       "      <td>0.402561</td>\n",
       "      <td>0.595044</td>\n",
       "      <td>0.291571</td>\n",
       "      <td>0.0</td>\n",
       "      <td>0.000000</td>\n",
       "      <td>0.0</td>\n",
       "      <td>0.084865</td>\n",
       "      <td>0</td>\n",
       "      <td>1</td>\n",
       "    </tr>\n",
       "    <tr>\n",
       "      <th>2</th>\n",
       "      <td>-0.103085</td>\n",
       "      <td>-0.125618</td>\n",
       "      <td>-0.028605</td>\n",
       "      <td>0.537464</td>\n",
       "      <td>0.244890</td>\n",
       "      <td>0.507273</td>\n",
       "      <td>0.234753</td>\n",
       "      <td>0.039057</td>\n",
       "      <td>0.0</td>\n",
       "      <td>0.007494</td>\n",
       "      <td>...</td>\n",
       "      <td>0.295135</td>\n",
       "      <td>0.436131</td>\n",
       "      <td>0.639491</td>\n",
       "      <td>0.242470</td>\n",
       "      <td>0.0</td>\n",
       "      <td>0.000000</td>\n",
       "      <td>0.0</td>\n",
       "      <td>0.026230</td>\n",
       "      <td>0</td>\n",
       "      <td>2</td>\n",
       "    </tr>\n",
       "    <tr>\n",
       "      <th>3</th>\n",
       "      <td>-0.102639</td>\n",
       "      <td>-0.126020</td>\n",
       "      <td>-0.028873</td>\n",
       "      <td>0.537306</td>\n",
       "      <td>0.244890</td>\n",
       "      <td>0.507639</td>\n",
       "      <td>0.232072</td>\n",
       "      <td>0.026864</td>\n",
       "      <td>0.0</td>\n",
       "      <td>0.009431</td>\n",
       "      <td>...</td>\n",
       "      <td>0.239311</td>\n",
       "      <td>0.521583</td>\n",
       "      <td>0.723905</td>\n",
       "      <td>0.224264</td>\n",
       "      <td>0.0</td>\n",
       "      <td>0.014668</td>\n",
       "      <td>0.0</td>\n",
       "      <td>0.015033</td>\n",
       "      <td>0</td>\n",
       "      <td>3</td>\n",
       "    </tr>\n",
       "    <tr>\n",
       "      <th>4</th>\n",
       "      <td>-0.105139</td>\n",
       "      <td>-0.127538</td>\n",
       "      <td>-0.028917</td>\n",
       "      <td>0.537513</td>\n",
       "      <td>0.244816</td>\n",
       "      <td>0.506626</td>\n",
       "      <td>0.234083</td>\n",
       "      <td>0.026864</td>\n",
       "      <td>0.0</td>\n",
       "      <td>0.008947</td>\n",
       "      <td>...</td>\n",
       "      <td>0.199478</td>\n",
       "      <td>0.675103</td>\n",
       "      <td>0.786566</td>\n",
       "      <td>0.235298</td>\n",
       "      <td>0.0</td>\n",
       "      <td>0.010813</td>\n",
       "      <td>0.0</td>\n",
       "      <td>0.000815</td>\n",
       "      <td>0</td>\n",
       "      <td>4</td>\n",
       "    </tr>\n",
       "  </tbody>\n",
       "</table>\n",
       "<p>5 rows × 24 columns</p>\n",
       "</div>"
      ],
      "text/plain": [
       "        x_l       x_r       y_l       y_r       z_l       z_r    roll_l  \\\n",
       "0 -0.097816 -0.127761 -0.029051  0.537977  0.249162  0.508908  0.239445   \n",
       "1 -0.102460 -0.126734 -0.029230  0.537758  0.246477  0.507236  0.240116   \n",
       "2 -0.103085 -0.125618 -0.028605  0.537464  0.244890  0.507273  0.234753   \n",
       "3 -0.102639 -0.126020 -0.028873  0.537306  0.244890  0.507639  0.232072   \n",
       "4 -0.105139 -0.127538 -0.028917  0.537513  0.244816  0.506626  0.234083   \n",
       "\n",
       "     roll_r  pitch_l   pitch_r  ...  forefinger_l  forefinger_r  middle_l  \\\n",
       "0  0.039819      0.0  0.007009  ...      0.369149      0.381857  0.570995   \n",
       "1  0.039057      0.0  0.007009  ...      0.326618      0.402561  0.595044   \n",
       "2  0.039057      0.0  0.007494  ...      0.295135      0.436131  0.639491   \n",
       "3  0.026864      0.0  0.009431  ...      0.239311      0.521583  0.723905   \n",
       "4  0.026864      0.0  0.008947  ...      0.199478      0.675103  0.786566   \n",
       "\n",
       "   middle_r  ring_l    ring_r  little_l  little_r  id  time  \n",
       "0  0.343431     0.0  0.000000       0.0  0.133088   0     0  \n",
       "1  0.291571     0.0  0.000000       0.0  0.084865   0     1  \n",
       "2  0.242470     0.0  0.000000       0.0  0.026230   0     2  \n",
       "3  0.224264     0.0  0.014668       0.0  0.015033   0     3  \n",
       "4  0.235298     0.0  0.010813       0.0  0.000815   0     4  \n",
       "\n",
       "[5 rows x 24 columns]"
      ]
     },
     "execution_count": 4,
     "metadata": {},
     "output_type": "execute_result"
    }
   ],
   "source": [
    "# Столбец id - идентификаторы \"слов\"\n",
    "# Столбец time - метка времени\n",
    "# Остальные столбцы - показания серсоров для слова id в момент времени time\n",
    "\n",
    "df_database.head()"
   ]
  },
  {
   "cell_type": "code",
   "execution_count": 5,
   "metadata": {},
   "outputs": [],
   "source": [
    "# Выберем одно из слов с идентификатором = 0\n",
    "sign0 = df_database.query('id == 0')\\\n",
    "                   .drop(['id'], axis=1)\\\n",
    "                   .set_index('time')"
   ]
  },
  {
   "cell_type": "code",
   "execution_count": 6,
   "metadata": {},
   "outputs": [
    {
     "data": {
      "text/plain": [
       "<AxesSubplot: xlabel='time'>"
      ]
     },
     "execution_count": 6,
     "metadata": {},
     "output_type": "execute_result"
    },
    {
     "data": {
      "image/png": "[encoded data removed]",
      "text/plain": [
       "<Figure size 640x480 with 1 Axes>"
      ]
     },
     "metadata": {},
     "output_type": "display_data"
    }
   ],
   "source": [
    "sign0.plot()"
   ]
  },
  {
   "cell_type": "markdown",
   "metadata": {},
   "source": [
    "Для каждого из \"слов\" у нас есть набор показаний сенсоров с разных частей руки в каждый момент времени.\n",
    "\n",
    "Идея нашего подхода будет заключаться в следующем – давайте для каждого сенсора составим набор характеристик (например, разброс значений, максимальное, минимальное, среднее значение, количество \"пиков\", и т.п.) и будем использовать эти новые \"признаки\" для решения задачи классификации."
   ]
  },
  {
   "cell_type": "markdown",
   "metadata": {},
   "source": [
    "## Расчет новых признаков"
   ]
  },
  {
   "cell_type": "markdown",
   "metadata": {},
   "source": [
    "Признаки мы будем считать с помощью библиотеки [tsfresh](http://tsfresh.readthedocs.io/en/latest/index.html). Генерация новых признаков может занять много времени, поэтому мы сохранили посчитанные данные, но при желании вы можете повторить вычисления."
   ]
  },
  {
   "cell_type": "code",
   "execution_count": null,
   "metadata": {},
   "outputs": [],
   "source": [
    "## Если не хотите долго ждать - не убирайте комментарии\n",
    "# from tsfresh.feature_extraction import extract_features\n",
    "# from tsfresh.feature_selection import select_features\n",
    "# from tsfresh.utilities.dataframe_functions import impute\n",
    "# from tsfresh.feature_extraction import ComprehensiveFCParameters, MinimalFCParameters, settings, EfficientFCParameters\n",
    "\n",
    "\n",
    "# sign_features = extract_features(df_database, column_id='id', column_sort='time',\n",
    "#                                  default_fc_parameters=EfficientFCParameters(),\n",
    "#                                  impute_function=impute)\n",
    "\n",
    "# sign_features_filtered = select_features(sign_features, s_classes.loc[:, 'target'])\n",
    "\n",
    "# filepath = './tsfresh_features_filt.csv.gz'\n",
    "# sign_features_filtered.to_csv(filepath, compression='gzip')"
   ]
  },
  {
   "cell_type": "code",
   "execution_count": 8,
   "metadata": {},
   "outputs": [],
   "source": [
    "filepath = './tsfresh_features_filt.csv'\n",
    "sign_features_filtered = pd.read_csv(filepath)"
   ]
  },
  {
   "cell_type": "code",
   "execution_count": 9,
   "metadata": {},
   "outputs": [
    {
     "data": {
      "text/plain": [
       "(2565, 10865)"
      ]
     },
     "execution_count": 9,
     "metadata": {},
     "output_type": "execute_result"
    }
   ],
   "source": [
    "sign_features_filtered.shape"
   ]
  },
  {
   "cell_type": "code",
   "execution_count": 10,
   "metadata": {},
   "outputs": [
    {
     "data": {
      "text/html": [
       "<div>\n",
       "<style scoped>\n",
       "    .dataframe tbody tr th:only-of-type {\n",
       "        vertical-align: middle;\n",
       "    }\n",
       "\n",
       "    .dataframe tbody tr th {\n",
       "        vertical-align: top;\n",
       "    }\n",
       "\n",
       "    .dataframe thead th {\n",
       "        text-align: right;\n",
       "    }\n",
       "</style>\n",
       "<table border=\"1\" class=\"dataframe\">\n",
       "  <thead>\n",
       "    <tr style=\"text-align: right;\">\n",
       "      <th></th>\n",
       "      <th>id</th>\n",
       "      <th>ring_r__maximum</th>\n",
       "      <th>ring_r__agg_linear_trend__f_agg_\"max\"__chunk_len_50__attr_\"intercept\"</th>\n",
       "      <th>ring_r__agg_linear_trend__f_agg_\"mean\"__chunk_len_5__attr_\"stderr\"</th>\n",
       "      <th>ring_r__fft_coefficient__coeff_2__attr_\"abs\"</th>\n",
       "      <th>ring_r__linear_trend__attr_\"stderr\"</th>\n",
       "      <th>ring_r__quantile__q_0.9</th>\n",
       "      <th>ring_r__agg_linear_trend__f_agg_\"max\"__chunk_len_5__attr_\"stderr\"</th>\n",
       "      <th>ring_r__standard_deviation</th>\n",
       "      <th>ring_r__variance</th>\n",
       "      <th>...</th>\n",
       "      <th>roll_r__large_standard_deviation__r_0.25</th>\n",
       "      <th>roll_r__large_standard_deviation__r_0.45</th>\n",
       "      <th>middle_l__symmetry_looking__r_0.35</th>\n",
       "      <th>roll_r__symmetry_looking__r_0.15</th>\n",
       "      <th>roll_r__symmetry_looking__r_0.2</th>\n",
       "      <th>thumb_l__large_standard_deviation__r_0.25</th>\n",
       "      <th>thumb_l__large_standard_deviation__r_0.45</th>\n",
       "      <th>thumb_l__symmetry_looking__r_0.1</th>\n",
       "      <th>thumb_l__symmetry_looking__r_0.4</th>\n",
       "      <th>z_r__symmetry_looking__r_0.35</th>\n",
       "    </tr>\n",
       "  </thead>\n",
       "  <tbody>\n",
       "    <tr>\n",
       "      <th>0</th>\n",
       "      <td>0</td>\n",
       "      <td>0.014764</td>\n",
       "      <td>0.998626</td>\n",
       "      <td>0.000174</td>\n",
       "      <td>0.047854</td>\n",
       "      <td>0.000034</td>\n",
       "      <td>0.006166</td>\n",
       "      <td>0.000423</td>\n",
       "      <td>0.003881</td>\n",
       "      <td>0.000015</td>\n",
       "      <td>...</td>\n",
       "      <td>1.0</td>\n",
       "      <td>0.0</td>\n",
       "      <td>1.0</td>\n",
       "      <td>1.0</td>\n",
       "      <td>1.0</td>\n",
       "      <td>1.0</td>\n",
       "      <td>0.0</td>\n",
       "      <td>0.0</td>\n",
       "      <td>1.0</td>\n",
       "      <td>1.0</td>\n",
       "    </tr>\n",
       "    <tr>\n",
       "      <th>1</th>\n",
       "      <td>1</td>\n",
       "      <td>0.017579</td>\n",
       "      <td>0.017579</td>\n",
       "      <td>0.000180</td>\n",
       "      <td>0.045183</td>\n",
       "      <td>0.000027</td>\n",
       "      <td>0.003599</td>\n",
       "      <td>0.000397</td>\n",
       "      <td>0.003399</td>\n",
       "      <td>0.000012</td>\n",
       "      <td>...</td>\n",
       "      <td>0.0</td>\n",
       "      <td>0.0</td>\n",
       "      <td>1.0</td>\n",
       "      <td>0.0</td>\n",
       "      <td>0.0</td>\n",
       "      <td>1.0</td>\n",
       "      <td>0.0</td>\n",
       "      <td>0.0</td>\n",
       "      <td>1.0</td>\n",
       "      <td>1.0</td>\n",
       "    </tr>\n",
       "    <tr>\n",
       "      <th>2</th>\n",
       "      <td>2</td>\n",
       "      <td>0.043917</td>\n",
       "      <td>0.043917</td>\n",
       "      <td>0.000737</td>\n",
       "      <td>0.059952</td>\n",
       "      <td>0.000092</td>\n",
       "      <td>0.028252</td>\n",
       "      <td>0.001034</td>\n",
       "      <td>0.011921</td>\n",
       "      <td>0.000142</td>\n",
       "      <td>...</td>\n",
       "      <td>0.0</td>\n",
       "      <td>0.0</td>\n",
       "      <td>1.0</td>\n",
       "      <td>0.0</td>\n",
       "      <td>0.0</td>\n",
       "      <td>1.0</td>\n",
       "      <td>0.0</td>\n",
       "      <td>0.0</td>\n",
       "      <td>1.0</td>\n",
       "      <td>1.0</td>\n",
       "    </tr>\n",
       "    <tr>\n",
       "      <th>3</th>\n",
       "      <td>3</td>\n",
       "      <td>0.000000</td>\n",
       "      <td>0.000000</td>\n",
       "      <td>0.000000</td>\n",
       "      <td>0.000000</td>\n",
       "      <td>0.000000</td>\n",
       "      <td>0.000000</td>\n",
       "      <td>0.000000</td>\n",
       "      <td>0.000000</td>\n",
       "      <td>0.000000</td>\n",
       "      <td>...</td>\n",
       "      <td>1.0</td>\n",
       "      <td>0.0</td>\n",
       "      <td>1.0</td>\n",
       "      <td>1.0</td>\n",
       "      <td>1.0</td>\n",
       "      <td>1.0</td>\n",
       "      <td>0.0</td>\n",
       "      <td>0.0</td>\n",
       "      <td>1.0</td>\n",
       "      <td>1.0</td>\n",
       "    </tr>\n",
       "    <tr>\n",
       "      <th>4</th>\n",
       "      <td>4</td>\n",
       "      <td>0.061037</td>\n",
       "      <td>0.061037</td>\n",
       "      <td>0.001453</td>\n",
       "      <td>0.402618</td>\n",
       "      <td>0.000127</td>\n",
       "      <td>0.047034</td>\n",
       "      <td>0.001777</td>\n",
       "      <td>0.017728</td>\n",
       "      <td>0.000314</td>\n",
       "      <td>...</td>\n",
       "      <td>0.0</td>\n",
       "      <td>0.0</td>\n",
       "      <td>1.0</td>\n",
       "      <td>0.0</td>\n",
       "      <td>0.0</td>\n",
       "      <td>1.0</td>\n",
       "      <td>0.0</td>\n",
       "      <td>0.0</td>\n",
       "      <td>1.0</td>\n",
       "      <td>1.0</td>\n",
       "    </tr>\n",
       "  </tbody>\n",
       "</table>\n",
       "<p>5 rows × 10865 columns</p>\n",
       "</div>"
      ],
      "text/plain": [
       "   id  ring_r__maximum  \\\n",
       "0   0         0.014764   \n",
       "1   1         0.017579   \n",
       "2   2         0.043917   \n",
       "3   3         0.000000   \n",
       "4   4         0.061037   \n",
       "\n",
       "   ring_r__agg_linear_trend__f_agg_\"max\"__chunk_len_50__attr_\"intercept\"  \\\n",
       "0                                           0.998626                       \n",
       "1                                           0.017579                       \n",
       "2                                           0.043917                       \n",
       "3                                           0.000000                       \n",
       "4                                           0.061037                       \n",
       "\n",
       "   ring_r__agg_linear_trend__f_agg_\"mean\"__chunk_len_5__attr_\"stderr\"  \\\n",
       "0                                           0.000174                    \n",
       "1                                           0.000180                    \n",
       "2                                           0.000737                    \n",
       "3                                           0.000000                    \n",
       "4                                           0.001453                    \n",
       "\n",
       "   ring_r__fft_coefficient__coeff_2__attr_\"abs\"  \\\n",
       "0                                      0.047854   \n",
       "1                                      0.045183   \n",
       "2                                      0.059952   \n",
       "3                                      0.000000   \n",
       "4                                      0.402618   \n",
       "\n",
       "   ring_r__linear_trend__attr_\"stderr\"  ring_r__quantile__q_0.9  \\\n",
       "0                             0.000034                 0.006166   \n",
       "1                             0.000027                 0.003599   \n",
       "2                             0.000092                 0.028252   \n",
       "3                             0.000000                 0.000000   \n",
       "4                             0.000127                 0.047034   \n",
       "\n",
       "   ring_r__agg_linear_trend__f_agg_\"max\"__chunk_len_5__attr_\"stderr\"  \\\n",
       "0                                           0.000423                   \n",
       "1                                           0.000397                   \n",
       "2                                           0.001034                   \n",
       "3                                           0.000000                   \n",
       "4                                           0.001777                   \n",
       "\n",
       "   ring_r__standard_deviation  ring_r__variance  ...  \\\n",
       "0                    0.003881          0.000015  ...   \n",
       "1                    0.003399          0.000012  ...   \n",
       "2                    0.011921          0.000142  ...   \n",
       "3                    0.000000          0.000000  ...   \n",
       "4                    0.017728          0.000314  ...   \n",
       "\n",
       "   roll_r__large_standard_deviation__r_0.25  \\\n",
       "0                                       1.0   \n",
       "1                                       0.0   \n",
       "2                                       0.0   \n",
       "3                                       1.0   \n",
       "4                                       0.0   \n",
       "\n",
       "   roll_r__large_standard_deviation__r_0.45  \\\n",
       "0                                       0.0   \n",
       "1                                       0.0   \n",
       "2                                       0.0   \n",
       "3                                       0.0   \n",
       "4                                       0.0   \n",
       "\n",
       "   middle_l__symmetry_looking__r_0.35  roll_r__symmetry_looking__r_0.15  \\\n",
       "0                                 1.0                               1.0   \n",
       "1                                 1.0                               0.0   \n",
       "2                                 1.0                               0.0   \n",
       "3                                 1.0                               1.0   \n",
       "4                                 1.0                               0.0   \n",
       "\n",
       "   roll_r__symmetry_looking__r_0.2  thumb_l__large_standard_deviation__r_0.25  \\\n",
       "0                              1.0                                        1.0   \n",
       "1                              0.0                                        1.0   \n",
       "2                              0.0                                        1.0   \n",
       "3                              1.0                                        1.0   \n",
       "4                              0.0                                        1.0   \n",
       "\n",
       "   thumb_l__large_standard_deviation__r_0.45  \\\n",
       "0                                        0.0   \n",
       "1                                        0.0   \n",
       "2                                        0.0   \n",
       "3                                        0.0   \n",
       "4                                        0.0   \n",
       "\n",
       "   thumb_l__symmetry_looking__r_0.1  thumb_l__symmetry_looking__r_0.4  \\\n",
       "0                               0.0                               1.0   \n",
       "1                               0.0                               1.0   \n",
       "2                               0.0                               1.0   \n",
       "3                               0.0                               1.0   \n",
       "4                               0.0                               1.0   \n",
       "\n",
       "   z_r__symmetry_looking__r_0.35  \n",
       "0                            1.0  \n",
       "1                            1.0  \n",
       "2                            1.0  \n",
       "3                            1.0  \n",
       "4                            1.0  \n",
       "\n",
       "[5 rows x 10865 columns]"
      ]
     },
     "execution_count": 10,
     "metadata": {},
     "output_type": "execute_result"
    }
   ],
   "source": [
    "sign_features_filtered.head()"
   ]
  },
  {
   "cell_type": "markdown",
   "metadata": {},
   "source": [
    "## Базовая модель"
   ]
  },
  {
   "cell_type": "markdown",
   "metadata": {},
   "source": [
    "В результате у нас получилось очень много признаков (аж 10865), давайте применим метод главных компонент, чтобы получить сжатое признаковое представление, сохранив при этом предиктивную силу в модели."
   ]
  },
  {
   "cell_type": "code",
   "execution_count": 11,
   "metadata": {},
   "outputs": [],
   "source": [
    "from sklearn.model_selection import cross_val_score\n",
    "from sklearn.model_selection import StratifiedKFold\n",
    "from sklearn.neighbors import KNeighborsClassifier\n",
    "from sklearn.decomposition import PCA\n",
    "from sklearn.preprocessing import StandardScaler\n",
    "from sklearn.pipeline import Pipeline\n",
    "from sklearn.preprocessing import LabelEncoder"
   ]
  },
  {
   "cell_type": "markdown",
   "metadata": {},
   "source": [
    "Создадим бейзлайн без уменьшения размерности. Гиперпараметры модели подбирались произвольно"
   ]
  },
  {
   "cell_type": "code",
   "execution_count": 16,
   "metadata": {},
   "outputs": [
    {
     "data": {
      "text/plain": [
       "(2565, 10865)"
      ]
     },
     "execution_count": 16,
     "metadata": {},
     "output_type": "execute_result"
    }
   ],
   "source": [
    "# Подготовим данные на вход в модель\n",
    "\n",
    "# признаки\n",
    "X = sign_features_filtered.values\n",
    "\n",
    "# классы\n",
    "enc = LabelEncoder()\n",
    "enc.fit(sign_classes.loc[:, 'class'])\n",
    "sign_classes.loc[:, 'target'] = enc.transform(sign_classes.loc[:, 'class'])\n",
    "y = sign_classes.target.values\n",
    "X.shape"
   ]
  },
  {
   "cell_type": "code",
   "execution_count": 13,
   "metadata": {},
   "outputs": [],
   "source": [
    "# Будем делать кросс-валидацию на 5 фолдов\n",
    "cv = StratifiedKFold(n_splits=5, shuffle=True, random_state=123)\n",
    "\n",
    "base_model = Pipeline([\n",
    "    ('scaler', StandardScaler()),\n",
    "    ('clf', KNeighborsClassifier(n_neighbors=9))\n",
    "])\n",
    "\n",
    "base_cv_scores = cross_val_score(base_model, X, y, cv=cv, scoring='accuracy')"
   ]
  },
  {
   "cell_type": "code",
   "execution_count": 14,
   "metadata": {},
   "outputs": [
    {
     "data": {
      "text/plain": [
       "0.9173489278752436"
      ]
     },
     "execution_count": 14,
     "metadata": {},
     "output_type": "execute_result"
    }
   ],
   "source": [
    "base_cv_scores.mean()"
   ]
  },
  {
   "cell_type": "markdown",
   "metadata": {},
   "source": [
    "Качество базовой модели должно быть в районе 92 процентов."
   ]
  },
  {
   "cell_type": "markdown",
   "metadata": {},
   "source": [
    "## Метод главных компонент"
   ]
  },
  {
   "cell_type": "markdown",
   "metadata": {},
   "source": [
    "* Добавьте в пайплайн `base_model` шаг с методом главных компонент. Начиная с версии 0.18 в sklearn добавили разные солверы для PCA. Дополнитенльно задайте в модели следующие параметры: `svd_solder = \"randomized\"` и `random_state=123`.\n",
    "* Остальные гиперпараметры модели и способ кросс-валидации оставьте без изменений\n",
    "* Найдите такое наименьшее количество главных компонент, что качество нового пайплайна превыcит 80%\n",
    "* К качестве ответа укажите долю объяснённой дисперсии при найденной настройке PCA  (для этого надо обучить PCA на всех данных). Формат ответа: число в интервале [0, 1] c точностью до сотых."
   ]
  },
  {
   "cell_type": "markdown",
   "metadata": {},
   "source": [
    "### *РЕШЕНИЕ*"
   ]
  },
  {
   "cell_type": "code",
   "execution_count": 24,
   "metadata": {},
   "outputs": [
    {
     "name": "stdout",
     "output_type": "stream",
     "text": [
      "1 components, 0.08654970760233918 accuracy\n",
      "2 components, 0.3017543859649122 accuracy\n",
      "3 components, 0.37699805068226117 accuracy\n",
      "4 components, 0.44210526315789467 accuracy\n",
      "5 components, 0.4557504873294347 accuracy\n",
      "6 components, 0.4947368421052632 accuracy\n",
      "7 components, 0.5415204678362573 accuracy\n",
      "8 components, 0.5703703703703704 accuracy\n",
      "9 components, 0.6553606237816764 accuracy\n",
      "10 components, 0.7138401559454189 accuracy\n",
      "11 components, 0.7372319688109161 accuracy\n",
      "12 components, 0.7711500974658869 accuracy\n",
      "13 components, 0.78635477582846 accuracy\n",
      "14 components, 0.8035087719298246 accuracy\n"
     ]
    }
   ],
   "source": [
    "k = 1\n",
    "scores = [0]\n",
    "\n",
    "while scores[-1] < 0.8:\n",
    "    model = Pipeline([\n",
    "        ('scaler', StandardScaler()),\n",
    "        ('pca', PCA(n_components=k, svd_solver = \"randomized\", random_state=123)),\n",
    "        ('clf', KNeighborsClassifier(n_neighbors=9))\n",
    "    ])\n",
    "    scores.append(cross_val_score(model, X, y, cv=cv, scoring='accuracy').mean())\n",
    "    print(f'{k} components, {scores[-1]} accuracy')\n",
    "    k += 1"
   ]
  },
  {
   "cell_type": "code",
   "execution_count": 27,
   "metadata": {},
   "outputs": [
    {
     "name": "stdout",
     "output_type": "stream",
     "text": [
      "14 components, 0.8035087719298246 accuracy\n"
     ]
    }
   ],
   "source": [
    "model = Pipeline([\n",
    "    ('scaler', StandardScaler()),\n",
    "    ('pca', PCA(n_components=14, svd_solver = \"randomized\", random_state=123)),\n",
    "    ('clf', KNeighborsClassifier(n_neighbors=9))\n",
    "])\n",
    "score = cross_val_score(model, X, y, cv=cv, scoring='accuracy').mean()\n",
    "\n",
    "print(f'{14} components, {score} accuracy')"
   ]
  },
  {
   "cell_type": "code",
   "execution_count": 84,
   "metadata": {},
   "outputs": [],
   "source": [
    "model = Pipeline([\n",
    "        ('scaler', StandardScaler()),\n",
    "        ('pca', PCA(n_components = 14)),\n",
    "        ('clf', KNeighborsClassifier(n_neighbors=9))\n",
    "    ])"
   ]
  },
  {
   "cell_type": "code",
   "execution_count": 88,
   "metadata": {},
   "outputs": [
    {
     "data": {
      "text/plain": [
       "0.39202044743576264"
      ]
     },
     "execution_count": 88,
     "metadata": {},
     "output_type": "execute_result"
    }
   ],
   "source": [
    "model.fit(X,y)\n",
    "pca = model.named_steps['pca']\n",
    "pca.explained_variance_ratio_.sum()"
   ]
  },
  {
   "cell_type": "markdown",
   "metadata": {},
   "source": [
    "# Ответ"
   ]
  },
  {
   "cell_type": "code",
   "execution_count": null,
   "metadata": {},
   "outputs": [],
   "source": [
    "print('{:.2f}'.format(expl))"
   ]
  }
 ],
 "metadata": {
  "anaconda-cloud": {},
  "kernelspec": {
   "display_name": "Python 3 (ipykernel)",
   "language": "python",
   "name": "python3"
  },
  "language_info": {
   "codemirror_mode": {
    "name": "ipython",
    "version": 3
   },
   "file_extension": ".py",
   "mimetype": "text/x-python",
   "name": "python",
   "nbconvert_exporter": "python",
   "pygments_lexer": "ipython3",
   "version": "3.10.6"
  },
  "toc": {
   "base_numbering": 1,
   "nav_menu": {
    "height": "12px",
    "width": "252px"
   },
   "number_sections": true,
   "sideBar": true,
   "skip_h1_title": false,
   "title_cell": "Table of Contents",
   "title_sidebar": "Contents",
   "toc_cell": false,
   "toc_position": {},
   "toc_section_display": "block",
   "toc_window_display": false
  }
 },
 "nbformat": 4,
 "nbformat_minor": 2
}
